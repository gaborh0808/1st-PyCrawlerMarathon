{
 "cells": [
  {
   "cell_type": "markdown",
   "metadata": {},
   "source": [
    "# PTT 網路爬蟲實作練習\n",
    "\n",
    "\n",
    "* 能夠利用 Request + BeatifulSour 撰寫爬蟲，並存放到合適的資料結構\n"
   ]
  },
  {
   "cell_type": "markdown",
   "metadata": {},
   "source": [
    "## 作業目標\n",
    "\n",
    "根據範例 ，完成以下問題：\n",
    "\n",
    "* ① 印出最新文章的「作者」「標題」「時間」\n",
    "* ② 印出第一頁所有文章的「作者」「標題」「時間」\n"
   ]
  },
  {
   "cell_type": "markdown",
   "metadata": {},
   "source": [
    "### ① 印出最新文章的「作者」「標題」「時間」"
   ]
  },
  {
   "cell_type": "code",
   "execution_count": 5,
   "metadata": {},
   "outputs": [
    {
     "data": {
      "text/plain": [
       "{'標題': '[公告] 精華區導覽Q&A',\n",
       " '作者': 'IanLi (IanLi)',\n",
       " '時間': 'Sun Jan 25 23:18:20 2015'}"
      ]
     },
     "execution_count": 5,
     "metadata": {},
     "output_type": "execute_result"
    }
   ],
   "source": [
    "import requests\n",
    "from bs4 import BeautifulSoup\n",
    "\n",
    "url = 'https://www.ptt.cc/bbs/Stock/index.html'\n",
    "r = requests.get(url)\n",
    "\n",
    "soup = BeautifulSoup(r.text, \"html5lib\")\n",
    "\n",
    "posts = []\n",
    "\n",
    "for d in soup.find_all(class_=\"title\"):\n",
    "    try:\n",
    "        post = {}\n",
    "        post['標題'] = d.text.replace('\\t', '').replace('\\n', '')\n",
    "        \n",
    "        r = BeautifulSoup(requests.get('https://www.ptt.cc'+d.find('a')['href']).text, \"html5lib\")\n",
    "        post['作者'] = r.find(class_='article-meta-value').text\n",
    "        post['時間'] = r.find_all(class_='article-meta-value')[-1].text\n",
    "        \n",
    "        posts.append(post)\n",
    "    except:\n",
    "        continue\n",
    "        \n",
    "posts = sorted(posts, key= lambda x: x['時間'])\n",
    "posts[-1]"
   ]
  },
  {
   "cell_type": "markdown",
   "metadata": {},
   "source": [
    "### ② 印出第一頁所有文章的「作者」「標題」「時間」"
   ]
  },
  {
   "cell_type": "code",
   "execution_count": 6,
   "metadata": {},
   "outputs": [
    {
     "name": "stdout",
     "output_type": "stream",
     "text": [
      "標題：  Re: [新聞] 房市比預期還熱 全台推案量破1.4兆\n",
      "作者： humbler (獸人H)\n",
      "時間： Sat Dec 21 22:22:00 2019\n",
      "標題：  [請益] 請問美股ZBRA成交爆大量\n",
      "作者： nicejerry (半糖綠加珍珠)\n",
      "時間： Sat Dec 21 23:09:26 2019\n",
      "標題：  [新聞] 台商回流+餘屋去化 2020營建股春天近了？\n",
      "作者： crocus (哪來的)\n",
      "時間： Sat Dec 21 23:37:24 2019\n",
      "標題：  [新聞] 大基金首次減持 匯頂科技入列\n",
      "作者： intieh (刺客)\n",
      "時間： Sun Dec 22 02:21:29 2019\n",
      "標題：  [請益] 為什麼巴菲特沒有買台積電?\n",
      "作者： SelfishGene (自私的基因)\n",
      "時間： Sun Dec 22 06:07:58 2019\n",
      "標題：  [新聞] 富邦VIX投資人 恐血本無歸\n",
      "作者： ckshchen (尖酸苛博文)\n",
      "時間： Sun Dec 22 09:06:59 2019\n",
      "標題：  [新聞] 15檔萬二飛翔 迎大行情\n",
      "作者： joy2105feh (土土兀)\n",
      "時間： Sun Dec 22 09:24:42 2019\n",
      "標題：  Re: [新聞] 房市比預期還熱 全台推案量破1.4兆\n",
      "作者： fantasy14 (我可以看見嗎)\n",
      "時間： Sun Dec 22 09:28:46 2019\n",
      "標題：  [請益] 新手小額投資\n",
      "作者： sincetihi (大叔)\n",
      "時間： Sun Dec 22 09:52:19 2019\n",
      "標題：  Re: [新聞] 房市比預期還熱 全台推案量破1.4兆\n",
      "作者： xabclol (lol)\n",
      "時間： Sun Dec 22 10:04:20 2019\n",
      "標題：  Re: [新聞] 房市比預期還熱 全台推案量破1.4兆\n",
      "作者： a000000000 (中野零nine)\n",
      "時間： Sun Dec 22 10:33:40 2019\n",
      "標題：  (本文已被刪除) [TCB006]\n",
      "標題：  Re: [請益] 投顧問題\n",
      "作者： sdamel (=ˇ=)\n",
      "時間： Sun Dec 22 11:06:39 2019\n",
      "標題：  [新聞] 合庫導入「開放銀行」 打造數位生態圈\n",
      "作者： TCB006 (存股合庫 榮耀台灣)\n",
      "時間： Sun Dec 22 11:36:34 2019\n",
      "標題：  Re: [新聞] 房市比預期還熱 全台推案量破1.4兆\n",
      "作者： wen9008 (股神)\n",
      "時間： Sun Dec 22 11:55:14 2019\n",
      "標題：  [其他] 建議版主取締大紀元相關的報導\n",
      "作者： Lex4193 (慟!!遊戲倦怠期)\n",
      "時間： Sun Dec 22 12:09:00 2019\n",
      "標題：  [新聞] 合庫銀柬埔寨擴據點 串接菲、緬搶商機\n",
      "作者： TCB006 (存股合庫 榮耀台灣)\n",
      "時間： Sun Dec 22 12:28:09 2019\n",
      "標題：  [新聞] 銀行新增房貸額 可望續揚\n",
      "作者： humbler (獸人H)\n",
      "時間： Sun Dec 22 13:22:29 2019\n",
      "標題：  [公告] 精華區導覽Q&A\n",
      "作者： IanLi (IanLi)\n",
      "時間： Sun Jan 25 23:18:20 2015\n",
      "標題：  [公告] Stock 板規V2.6             (2019/06/20)\n",
      "標題：  [閒聊] 2019/12/20 盤後閒聊\n",
      "作者： vendan5566 (阿文)\n",
      "時間： Fri Dec 20 14:00:00 2019\n"
     ]
    }
   ],
   "source": [
    "for d in soup.find_all(class_=\"title\"):\n",
    "    try:\n",
    "        print('標題： ', d.text.replace('\\t', '').replace('\\n', ''))\n",
    "        r = BeautifulSoup(requests.get('https://www.ptt.cc'+d.find('a')['href']).text, \"html5lib\")\n",
    "        print('作者： ' + r.find(class_='article-meta-value').text)\n",
    "        print('時間： ' + r.find_all(class_='article-meta-value')[-1].text)\n",
    "    except:\n",
    "        continue"
   ]
  },
  {
   "cell_type": "markdown",
   "metadata": {},
   "source": [
    "### ③ 試著爬爬看其他版的文章"
   ]
  },
  {
   "cell_type": "code",
   "execution_count": 7,
   "metadata": {},
   "outputs": [
    {
     "data": {
      "text/plain": [
       "{'標題': '[協尋] 妹妹與友人失蹤 代po',\n",
       " '作者': 'wonling (克萊兒)',\n",
       " '時間': 'Wed Dec 18 20:28:12 2019'}"
      ]
     },
     "execution_count": 7,
     "metadata": {},
     "output_type": "execute_result"
    }
   ],
   "source": [
    "import requests\n",
    "from bs4 import BeautifulSoup\n",
    "\n",
    "url = 'https://www.ptt.cc/bbs/Gossiping/index.html'\n",
    "r = requests.get(url, cookies={'over18': '1'})\n",
    "\n",
    "soup = BeautifulSoup(r.text, \"html5lib\")\n",
    "\n",
    "posts = []\n",
    "\n",
    "for d in soup.find_all(class_=\"title\"):\n",
    "    try:\n",
    "        post = {}\n",
    "        post['標題'] = d.text.replace('\\t', '').replace('\\n', '')\n",
    "        \n",
    "        r = BeautifulSoup(requests.get('https://www.ptt.cc'+d.find('a')['href'], cookies={'over18': '1'}).text, \"html5lib\")\n",
    "        post['作者'] = r.find(class_='article-meta-value').text\n",
    "        post['時間'] = r.find_all(class_='article-meta-value')[-1].text\n",
    "        \n",
    "        posts.append(post)\n",
    "    except:\n",
    "        continue\n",
    "        \n",
    "posts = sorted(posts, key= lambda x: x['時間'])\n",
    "posts[-1]"
   ]
  },
  {
   "cell_type": "code",
   "execution_count": null,
   "metadata": {},
   "outputs": [],
   "source": []
  }
 ],
 "metadata": {
  "kernelspec": {
   "display_name": "Python 3",
   "language": "python",
   "name": "python3"
  },
  "language_info": {
   "codemirror_mode": {
    "name": "ipython",
    "version": 3
   },
   "file_extension": ".py",
   "mimetype": "text/x-python",
   "name": "python",
   "nbconvert_exporter": "python",
   "pygments_lexer": "ipython3",
   "version": "3.7.4"
  }
 },
 "nbformat": 4,
 "nbformat_minor": 2
}
